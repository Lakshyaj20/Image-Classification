{
  "cells": [
    {
      "cell_type": "code",
      "execution_count": null,
      "metadata": {
        "id": "xdV2xHCS2sFH"
      },
      "outputs": [],
      "source": [
        "import tensorflow as tf\n",
        "import numpy as np\n",
        "import cv2\n",
        "import matplotlib.pyplot as plt\n",
        "from keras.utils import to_categorical\n",
        "from keras.models import Sequential\n",
        "from keras.applications.vgg19 import VGG19\n",
        "from tensorflow.keras.datasets import cifar10\n",
        "from tensorflow.keras import layers, models, optimizers\n",
        "from keras.layers import Flatten, Dense, Input"
      ]
    },
    {
      "cell_type": "code",
      "execution_count": null,
      "metadata": {
        "id": "V2T_18QP26oi",
        "colab": {
          "base_uri": "https://localhost:8080/"
        },
        "outputId": "2f3549ab-3406-4a76-a93a-297bf079b8e7"
      },
      "outputs": [
        {
          "output_type": "stream",
          "name": "stdout",
          "text": [
            "Downloading data from https://www.cs.toronto.edu/~kriz/cifar-10-python.tar.gz\n",
            "170498071/170498071 [==============================] - 8s 0us/step\n"
          ]
        }
      ],
      "source": [
        "(train_images, train_labels),(test_images, test_labels) = cifar10.load_data()"
      ]
    },
    {
      "cell_type": "code",
      "execution_count": null,
      "metadata": {
        "id": "GVlVYAzN3SkP",
        "colab": {
          "base_uri": "https://localhost:8080/"
        },
        "outputId": "bbf73bf3-5766-485a-e223-1af28059936c"
      },
      "outputs": [
        {
          "output_type": "stream",
          "name": "stdout",
          "text": [
            "train_image (50000, 32, 32, 3)\n",
            "train_label (50000, 1)\n",
            "test_image (10000, 32, 32, 3)\n",
            "test_label (10000, 1)\n",
            "uint8\n"
          ]
        }
      ],
      "source": [
        "print(\"train_image\",train_images.shape)\n",
        "print(\"train_label\",train_labels.shape)\n",
        "print(\"test_image\",test_images.shape)\n",
        "print(\"test_label\",test_labels.shape)\n",
        "print(train_images.dtype)"
      ]
    },
    {
      "cell_type": "code",
      "execution_count": null,
      "metadata": {
        "id": "lz74Qu-PKxN8"
      },
      "outputs": [],
      "source": [
        "def resize_image(img):\n",
        "  num_image = img.shape[0]\n",
        "  print(num_image)\n",
        "  new_array = np.zeros((num_image,48,48,3))\n",
        "  for i in range(num_image):\n",
        "    new_array[i] = cv2.resize (img[i, :, :, :],(48,48))\n",
        "  return new_array"
      ]
    },
    {
      "cell_type": "code",
      "execution_count": null,
      "metadata": {
        "id": "RqjkQWHM4xrD",
        "colab": {
          "base_uri": "https://localhost:8080/"
        },
        "outputId": "ef9c63b9-323a-4c77-87d6-6c876fc28096"
      },
      "outputs": [
        {
          "output_type": "stream",
          "name": "stdout",
          "text": [
            "50000\n",
            "10000\n"
          ]
        }
      ],
      "source": [
        "train_images = resize_image(train_images)\n",
        "test_images = resize_image(test_images)"
      ]
    },
    {
      "cell_type": "code",
      "execution_count": null,
      "metadata": {
        "colab": {
          "base_uri": "https://localhost:8080/"
        },
        "id": "LXvM7lEeM2lM",
        "outputId": "e6595835-1271-4978-91f7-7bd3b2e76be2"
      },
      "outputs": [
        {
          "output_type": "stream",
          "name": "stdout",
          "text": [
            "train_image (50000, 48, 48, 3)\n",
            "test_image (10000, 48, 48, 3)\n"
          ]
        }
      ],
      "source": [
        "print(\"train_image\", train_images.shape)\n",
        "print(\"test_image\", test_images.shape)"
      ]
    },
    {
      "cell_type": "code",
      "source": [
        "print(train_labels)"
      ],
      "metadata": {
        "colab": {
          "base_uri": "https://localhost:8080/"
        },
        "id": "XbDvy2MpPlhg",
        "outputId": "a1657d18-3ed3-49bb-84e5-81e4611c5591"
      },
      "execution_count": null,
      "outputs": [
        {
          "output_type": "stream",
          "name": "stdout",
          "text": [
            "[[6]\n",
            " [9]\n",
            " [9]\n",
            " ...\n",
            " [9]\n",
            " [1]\n",
            " [1]]\n"
          ]
        }
      ]
    },
    {
      "cell_type": "code",
      "execution_count": null,
      "metadata": {
        "id": "zijUukOTQVQ1"
      },
      "outputs": [],
      "source": [
        "train_labels = to_categorical(train_labels,num_classes=10)\n",
        "test_labels = to_categorical(test_labels,num_classes=10)"
      ]
    },
    {
      "cell_type": "code",
      "source": [
        "print(train_labels)"
      ],
      "metadata": {
        "colab": {
          "base_uri": "https://localhost:8080/"
        },
        "id": "LcaLSjqzPVbX",
        "outputId": "ab1bac43-232e-4c8c-9654-56aa771d1bc9"
      },
      "execution_count": null,
      "outputs": [
        {
          "output_type": "stream",
          "name": "stdout",
          "text": [
            "[[6]\n",
            " [9]\n",
            " [9]\n",
            " ...\n",
            " [9]\n",
            " [1]\n",
            " [1]]\n"
          ]
        }
      ]
    },
    {
      "cell_type": "code",
      "execution_count": null,
      "metadata": {
        "colab": {
          "base_uri": "https://localhost:8080/"
        },
        "id": "cI1Yzzb4RHUu",
        "outputId": "121bfc7d-e900-46d2-ce03-3d2de273b98a"
      },
      "outputs": [
        {
          "output_type": "stream",
          "name": "stdout",
          "text": [
            "train_label (50000, 10)\n",
            "test_label (10000, 10)\n"
          ]
        }
      ],
      "source": [
        "print(\"train_label\",train_labels.shape)\n",
        "print(\"test_label\",test_labels.shape)"
      ]
    },
    {
      "cell_type": "code",
      "execution_count": null,
      "metadata": {
        "id": "DOSHUsXz89Ia",
        "colab": {
          "base_uri": "https://localhost:8080/"
        },
        "outputId": "96bf3cc2-a3a1-4848-e2b7-974c8e944d46"
      },
      "outputs": [
        {
          "output_type": "stream",
          "name": "stdout",
          "text": [
            "Downloading data from https://storage.googleapis.com/tensorflow/keras-applications/vgg19/vgg19_weights_tf_dim_ordering_tf_kernels_notop.h5\n",
            "80134624/80134624 [==============================] - 3s 0us/step\n"
          ]
        }
      ],
      "source": [
        "vgg = tf.keras.applications.VGG19(weights = \"imagenet\" ,include_top=False, input_shape = (48,48,3))"
      ]
    },
    {
      "cell_type": "code",
      "execution_count": null,
      "metadata": {
        "id": "G1gzzPj0SFDQ",
        "colab": {
          "base_uri": "https://localhost:8080/"
        },
        "outputId": "4e7e268f-965d-46c8-d96c-8931d588fa82"
      },
      "outputs": [
        {
          "output_type": "stream",
          "name": "stdout",
          "text": [
            "Model: \"sequential\"\n",
            "_________________________________________________________________\n",
            " Layer (type)                Output Shape              Param #   \n",
            "=================================================================\n",
            " block1_conv1 (Conv2D)       (None, 48, 48, 64)        1792      \n",
            "                                                                 \n",
            " block1_conv2 (Conv2D)       (None, 48, 48, 64)        36928     \n",
            "                                                                 \n",
            " block1_pool (MaxPooling2D)  (None, 24, 24, 64)        0         \n",
            "                                                                 \n",
            " block2_conv1 (Conv2D)       (None, 24, 24, 128)       73856     \n",
            "                                                                 \n",
            " block2_conv2 (Conv2D)       (None, 24, 24, 128)       147584    \n",
            "                                                                 \n",
            " block2_pool (MaxPooling2D)  (None, 12, 12, 128)       0         \n",
            "                                                                 \n",
            " block3_conv1 (Conv2D)       (None, 12, 12, 256)       295168    \n",
            "                                                                 \n",
            " block3_conv2 (Conv2D)       (None, 12, 12, 256)       590080    \n",
            "                                                                 \n",
            " block3_conv3 (Conv2D)       (None, 12, 12, 256)       590080    \n",
            "                                                                 \n",
            " block3_conv4 (Conv2D)       (None, 12, 12, 256)       590080    \n",
            "                                                                 \n",
            " block3_pool (MaxPooling2D)  (None, 6, 6, 256)         0         \n",
            "                                                                 \n",
            " block4_conv1 (Conv2D)       (None, 6, 6, 512)         1180160   \n",
            "                                                                 \n",
            " block4_conv2 (Conv2D)       (None, 6, 6, 512)         2359808   \n",
            "                                                                 \n",
            " block4_conv3 (Conv2D)       (None, 6, 6, 512)         2359808   \n",
            "                                                                 \n",
            " block4_conv4 (Conv2D)       (None, 6, 6, 512)         2359808   \n",
            "                                                                 \n",
            " block4_pool (MaxPooling2D)  (None, 3, 3, 512)         0         \n",
            "                                                                 \n",
            " block5_conv1 (Conv2D)       (None, 3, 3, 512)         2359808   \n",
            "                                                                 \n",
            " block5_conv2 (Conv2D)       (None, 3, 3, 512)         2359808   \n",
            "                                                                 \n",
            " block5_conv3 (Conv2D)       (None, 3, 3, 512)         2359808   \n",
            "                                                                 \n",
            " block5_conv4 (Conv2D)       (None, 3, 3, 512)         2359808   \n",
            "                                                                 \n",
            " block5_pool (MaxPooling2D)  (None, 1, 1, 512)         0         \n",
            "                                                                 \n",
            " flatten (Flatten)           (None, 512)               0         \n",
            "                                                                 \n",
            " dense (Dense)               (None, 128)               65664     \n",
            "                                                                 \n",
            " dense_1 (Dense)             (None, 10)                1290      \n",
            "                                                                 \n",
            "=================================================================\n",
            "Total params: 20091338 (76.64 MB)\n",
            "Trainable params: 66954 (261.54 KB)\n",
            "Non-trainable params: 20024384 (76.39 MB)\n",
            "_________________________________________________________________\n"
          ]
        }
      ],
      "source": [
        "model = models.Sequential()\n",
        "\n",
        "for layers in vgg.layers:\n",
        "  model.add(layers)\n",
        "\n",
        "for  layers in model.layers:\n",
        "  layers.trainable = False\n",
        "\n",
        "model.add(Flatten())\n",
        "model.add(Dense(128,activation = 'relu'))\n",
        "model.add(Dense(10, activation = 'softmax'))\n",
        "\n",
        "model.summary()"
      ]
    },
    {
      "cell_type": "code",
      "source": [
        "# tf.keras.optimizers.Adam(learning_rate=0.001, beta_1 = 0.9,beta_2 = 0.99, epsilon=None)"
      ],
      "metadata": {
        "colab": {
          "base_uri": "https://localhost:8080/"
        },
        "id": "Fia2FGpT9bF6",
        "outputId": "8d5b6661-d62b-46f2-c402-9f5c5f31f8e7"
      },
      "execution_count": null,
      "outputs": [
        {
          "output_type": "execute_result",
          "data": {
            "text/plain": [
              "<keras.src.optimizers.adam.Adam at 0x7b67adf57dc0>"
            ]
          },
          "metadata": {},
          "execution_count": 12
        }
      ]
    },
    {
      "cell_type": "code",
      "execution_count": null,
      "metadata": {
        "id": "fiVv_vFrVqg8"
      },
      "outputs": [],
      "source": [
        "model.compile(optimizer=\"Adam\",loss=\"categorical_crossentropy\",metrics=[\"accuracy\"])"
      ]
    },
    {
      "cell_type": "code",
      "execution_count": null,
      "metadata": {
        "id": "RT9rnZQFV_Pz"
      },
      "outputs": [],
      "source": [
        "hist = model.fit(train_images, train_labels, validation_split = 0.15, epochs = 20, batch_size = 1000)"
      ]
    },
    {
      "cell_type": "code",
      "source": [
        "from tensorflow.keras.layers import Flatten, Dense, Dropout, BatchNormalization\n",
        "from tensorflow.keras.regularizers import l2\n",
        "from tensorflow.keras.optimizers import Adam\n",
        "from tensorflow.keras.callbacks import EarlyStopping, ReduceLROnPlateau\n",
        "from tensorflow.keras.preprocessing.image import ImageDataGenerator\n",
        "\n",
        "# Initialize the base VGG19 model\n",
        "vgg = tf.keras.applications.VGG19(weights=\"imagenet\", include_top=False, input_shape=(48, 48, 3))\n",
        "vgg.trainable = False\n",
        "\n",
        "model = tf.keras.Sequential()\n",
        "\n",
        "for layer in vgg.layers:\n",
        "    model.add(layer)\n",
        "\n",
        "model.add(Flatten())\n",
        "model.add(Dense(256, activation='relu', kernel_regularizer=l2(0.01)))\n",
        "model.add(BatchNormalization())\n",
        "model.add(Dropout(0.5))\n",
        "model.add(Dense(128, activation='relu', kernel_regularizer=l2(0.01)))\n",
        "model.add(BatchNormalization())\n",
        "model.add(Dropout(0.5))\n",
        "model.add(Dense(10, activation='softmax'))\n",
        "\n",
        "# Compile the model\n",
        "model.compile(optimizer=Adam(learning_rate=1e-4), loss='categorical_crossentropy', metrics=['accuracy'])\n",
        "\n",
        "# Callbacks\n",
        "early_stopping = EarlyStopping(monitor='val_loss', patience=5, restore_best_weights=True)\n",
        "reduce_lr = ReduceLROnPlateau(monitor='val_loss', factor=0.2, patience=3, min_lr=1e-6)\n",
        "\n",
        "# Data augmentation\n",
        "datagen = ImageDataGenerator(\n",
        "    rotation_range=20,\n",
        "    width_shift_range=0.2,\n",
        "    height_shift_range=0.2,\n",
        "    horizontal_flip=True,\n",
        "    validation_split=0.15  # Assuming your dataset has a 15% validation split\n",
        ")\n",
        "\n",
        "# Fit the model\n",
        "hist = model.fit(\n",
        "    datagen.flow(train_images, train_labels, subset='training', batch_size=32),\n",
        "    validation_data=datagen.flow(train_images, train_labels, subset='validation'),\n",
        "    epochs=50,\n",
        "    callbacks=[early_stopping, reduce_lr]\n",
        ")\n"
      ],
      "metadata": {
        "id": "IaWgbE50B80W"
      },
      "execution_count": null,
      "outputs": []
    }
  ],
  "metadata": {
    "colab": {
      "provenance": [],
      "gpuType": "T4"
    },
    "kernelspec": {
      "display_name": "Python 3",
      "name": "python3"
    },
    "language_info": {
      "name": "python"
    },
    "accelerator": "GPU"
  },
  "nbformat": 4,
  "nbformat_minor": 0
}